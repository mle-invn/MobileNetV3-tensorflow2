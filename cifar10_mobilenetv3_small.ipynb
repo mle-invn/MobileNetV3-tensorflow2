{
  "nbformat": 4,
  "nbformat_minor": 0,
  "metadata": {
    "colab": {
      "provenance": [],
      "include_colab_link": true
    },
    "kernelspec": {
      "name": "python3",
      "display_name": "Python 3"
    },
    "accelerator": "GPU"
  },
  "cells": [
    {
      "cell_type": "markdown",
      "metadata": {
        "id": "view-in-github",
        "colab_type": "text"
      },
      "source": [
        "<a href=\"https://colab.research.google.com/github/mle-invn/MobileNetV3-tensorflow2/blob/master/cifar10_mobilenetv3_small.ipynb\" target=\"_parent\"><img src=\"https://colab.research.google.com/assets/colab-badge.svg\" alt=\"Open In Colab\"/></a>"
      ]
    },
    {
      "cell_type": "code",
      "metadata": {
        "id": "DnBVSlAW0nJW",
        "outputId": "e7189d12-e376-47cd-c490-5e7e0cc50a8f",
        "colab": {
          "base_uri": "https://localhost:8080/"
        }
      },
      "source": [
        "# !git clone https://github.com/mle-invn/MobileNetV3-tensorflow2.git\n",
        "%pwd\n",
        "#== /content/MobileNetV3-tensorflow2\n",
        "%ls\n",
        "%cd MobileNetV3-tensorflow2"
      ],
      "execution_count": 5,
      "outputs": [
        {
          "output_type": "stream",
          "name": "stdout",
          "text": [
            "\u001b[0m\u001b[01;34mMobileNetV3-tensorflow2\u001b[0m/  \u001b[01;34msample_data\u001b[0m/\n",
            "/content/MobileNetV3-tensorflow2\n"
          ]
        }
      ]
    },
    {
      "cell_type": "code",
      "metadata": {
        "id": "Wus8dZWZOvm9"
      },
      "source": [
        "import tensorflow as tf\n",
        "import tensorflow_datasets as tfds\n",
        "from mobilenetv3_factory import build_mobilenetv3\n",
        "from datasets import build_dataset"
      ],
      "execution_count": 6,
      "outputs": []
    },
    {
      "cell_type": "code",
      "metadata": {
        "id": "ijaYKAxNOyn-"
      },
      "source": [
        "# config = tf.ConfigProto()\n",
        "# config.gpu_options.allow_growth = True\n",
        "# sess = tf.Session(config=config)\n",
        "# tf.keras.backend.set_session(sess)"
      ],
      "execution_count": 13,
      "outputs": []
    },
    {
      "cell_type": "code",
      "metadata": {
        "id": "GKJLzmbi3MC_"
      },
      "source": [
        "# Parameters\n",
        "name = \"cifar10\"\n",
        "train_batch_size = 128\n",
        "valid_batch_size = 128\n",
        "height = 128\n",
        "width = 128\n",
        "model_type = \"small\"\n",
        "l2_reg = 0.0001\n",
        "lr = 0.01\n",
        "width_multiplier = 1.2\n",
        "#optimizer = tf.keras.optimizers.RMSprop(lr)\n",
        "optimizer = tf.keras.optimizers.Adam(lr)\n",
        "num_epoch = 100"
      ],
      "execution_count": 8,
      "outputs": []
    },
    {
      "cell_type": "code",
      "source": [
        "def _parse_function(data, shape, num_classes, channels):\n",
        "    height, width = shape\n",
        "    image = data[\"image\"]\n",
        "    label = data[\"label\"]\n",
        "\n",
        "    image = tf.cast(image, dtype=tf.float32)\n",
        "    image = tf.image.resize(image, (height,width))\n",
        "    image = tf.reshape(image, (height,width, channels))\n",
        "    image = image / 255.0\n",
        "    image = image - 0.5\n",
        "    image = image * 2.0\n",
        "    label = tf.one_hot(label, depth=num_classes)\n",
        "\n",
        "    return image, label\n",
        "shape = [height,width]\n",
        "\n",
        "dataset = {}\n",
        "builder = tfds.builder(name)\n",
        "dataset[\"num_train\"] = builder.info.splits['train'].num_examples\n",
        "dataset[\"num_test\"] = builder.info.splits['test'].num_examples\n",
        "\n",
        "[ds_train, ds_test], info = tfds.load(name=name, split=[\"train\", \"test\"], with_info=True)\n",
        "dataset[\"num_classes\"] = info.features[\"label\"].num_classes\n",
        "dataset[\"channels\"] = info.features['image'].shape[-1]\n",
        "\n",
        "ds_train = ds_train.shuffle(1024).repeat()\n",
        "ds_train = ds_train.map(lambda data: _parse_function(data, [height,width], dataset[\"num_classes\"], dataset[\"channels\"]))\n",
        "dataset[\"train\"] = ds_train.batch(train_batch_size)\n",
        "\n",
        "ds_test = ds_test.shuffle(1024).repeat()\n",
        "ds_test = ds_test.map(lambda data: _parse_function(data, shape, dataset[\"num_classes\"], dataset[\"channels\"]))\n",
        "dataset[\"test\"] = ds_test.batch(valid_batch_size)"
      ],
      "metadata": {
        "id": "brh1EYbRqkdg"
      },
      "execution_count": 9,
      "outputs": []
    },
    {
      "cell_type": "code",
      "metadata": {
        "id": "2rOstYz43Nrj"
      },
      "source": [
        "dataset = build_dataset(\n",
        "        name=name,\n",
        "        shape=[height,width],\n",
        "        train_batch_size=train_batch_size,\n",
        "        valid_batch_size=valid_batch_size\n",
        "        )"
      ],
      "execution_count": 10,
      "outputs": []
    },
    {
      "cell_type": "code",
      "metadata": {
        "id": "u-BYXs2r3P7f"
      },
      "source": [
        "model = build_mobilenetv3(\n",
        "        model_type,\n",
        "        input_shape=(height, width, dataset[\"channels\"]),\n",
        "        num_classes=dataset[\"num_classes\"],\n",
        "        width_multiplier=width_multiplier,\n",
        "        l2_reg=l2_reg,\n",
        "    )"
      ],
      "execution_count": 11,
      "outputs": []
    },
    {
      "cell_type": "code",
      "metadata": {
        "id": "uw7nf1lZ3R_8",
        "outputId": "60fb6902-fbba-4a9b-a9d1-e9ecba8273f2",
        "colab": {
          "base_uri": "https://localhost:8080/"
        }
      },
      "source": [
        "model.compile(\n",
        "        optimizer= optimizer,\n",
        "        loss=\"categorical_crossentropy\",\n",
        "        metrics=[\"accuracy\"],)\n",
        "model.summary()"
      ],
      "execution_count": 12,
      "outputs": [
        {
          "output_type": "stream",
          "name": "stdout",
          "text": [
            "Model: \"model\"\n",
            "_________________________________________________________________\n",
            " Layer (type)                Output Shape              Param #   \n",
            "=================================================================\n",
            " input_1 (InputLayer)        [(None, 128, 128, 3)]     0         \n",
            "                                                                 \n",
            " MobileNetV3_Small (MobileNe  (None, 10)               2375770   \n",
            " tV3)                                                            \n",
            "                                                                 \n",
            "=================================================================\n",
            "Total params: 2,375,770\n",
            "Trainable params: 2,361,226\n",
            "Non-trainable params: 14,544\n",
            "_________________________________________________________________\n"
          ]
        }
      ]
    },
    {
      "cell_type": "code",
      "metadata": {
        "id": "lnT5BPZV3T-a",
        "outputId": "b3bcbbcd-cc94-4bdf-b276-6b9707edcf29",
        "colab": {
          "base_uri": "https://localhost:8080/"
        }
      },
      "source": [
        "model.fit(\n",
        "        tf.compat.v1.data.make_one_shot_iterator(dataset[\"train\"]),\n",
        "        # dataset[\"train\"].make_one_shot_iterator(),\n",
        "        steps_per_epoch=(dataset[\"num_train\"]//train_batch_size)+1,\n",
        "        epochs=num_epoch,\n",
        "        validation_data=dataset[\"test\"],\n",
        "        validation_steps=(dataset[\"num_test\"]//valid_batch_size)+1,\n",
        "    )"
      ],
      "execution_count": null,
      "outputs": [
        {
          "output_type": "stream",
          "name": "stdout",
          "text": [
            "Epoch 1/100\n",
            "391/391 [==============================] - 70s 136ms/step - loss: 2.7496 - accuracy: 0.1407 - val_loss: 10.9319 - val_accuracy: 0.0974\n",
            "Epoch 2/100\n",
            "391/391 [==============================] - 51s 130ms/step - loss: 2.4406 - accuracy: 0.1690 - val_loss: 2.2182 - val_accuracy: 0.2266\n",
            "Epoch 3/100\n",
            "391/391 [==============================] - 51s 131ms/step - loss: 1.9886 - accuracy: 0.2928 - val_loss: 1.9216 - val_accuracy: 0.3099\n",
            "Epoch 4/100\n",
            "391/391 [==============================] - 51s 131ms/step - loss: 1.7664 - accuracy: 0.3828 - val_loss: 1.8997 - val_accuracy: 0.3506\n",
            "Epoch 5/100\n",
            "391/391 [==============================] - 52s 133ms/step - loss: 1.6308 - accuracy: 0.4352 - val_loss: 1.5492 - val_accuracy: 0.4812\n",
            "Epoch 6/100\n",
            "391/391 [==============================] - 52s 133ms/step - loss: 1.4947 - accuracy: 0.4908 - val_loss: 1.7965 - val_accuracy: 0.4016\n",
            "Epoch 7/100\n",
            "391/391 [==============================] - 51s 131ms/step - loss: 1.3735 - accuracy: 0.5439 - val_loss: 1.5726 - val_accuracy: 0.4924\n",
            "Epoch 8/100\n",
            "391/391 [==============================] - 52s 132ms/step - loss: 1.2314 - accuracy: 0.6051 - val_loss: 1.4209 - val_accuracy: 0.5575\n",
            "Epoch 9/100\n",
            "391/391 [==============================] - 51s 131ms/step - loss: 1.1182 - accuracy: 0.6497 - val_loss: 1.3205 - val_accuracy: 0.6007\n",
            "Epoch 10/100\n",
            "391/391 [==============================] - 52s 133ms/step - loss: 1.0322 - accuracy: 0.6867 - val_loss: 1.6106 - val_accuracy: 0.5666\n",
            "Epoch 11/100\n",
            "391/391 [==============================] - 51s 131ms/step - loss: 0.9568 - accuracy: 0.7162 - val_loss: 1.0321 - val_accuracy: 0.6961\n",
            "Epoch 12/100\n",
            "391/391 [==============================] - 51s 131ms/step - loss: 0.8998 - accuracy: 0.7446 - val_loss: 1.2673 - val_accuracy: 0.6381\n",
            "Epoch 13/100\n",
            "391/391 [==============================] - 51s 131ms/step - loss: 0.8488 - accuracy: 0.7626 - val_loss: 0.9822 - val_accuracy: 0.7274\n",
            "Epoch 14/100\n",
            "391/391 [==============================] - 51s 131ms/step - loss: 0.8109 - accuracy: 0.7770 - val_loss: 1.4259 - val_accuracy: 0.6150\n",
            "Epoch 15/100\n",
            "391/391 [==============================] - 51s 132ms/step - loss: 0.7775 - accuracy: 0.7938 - val_loss: 1.0793 - val_accuracy: 0.7144\n",
            "Epoch 16/100\n",
            "391/391 [==============================] - 51s 131ms/step - loss: 0.7656 - accuracy: 0.7994 - val_loss: 1.0800 - val_accuracy: 0.7087\n",
            "Epoch 17/100\n",
            "391/391 [==============================] - 51s 132ms/step - loss: 0.7547 - accuracy: 0.8061 - val_loss: 1.0011 - val_accuracy: 0.7419\n",
            "Epoch 18/100\n",
            "391/391 [==============================] - 51s 131ms/step - loss: 0.7299 - accuracy: 0.8141 - val_loss: 0.9635 - val_accuracy: 0.7464\n",
            "Epoch 19/100\n",
            "391/391 [==============================] - 51s 131ms/step - loss: 0.7234 - accuracy: 0.8173 - val_loss: 1.0911 - val_accuracy: 0.7080\n",
            "Epoch 20/100\n",
            "391/391 [==============================] - 51s 132ms/step - loss: 0.7092 - accuracy: 0.8273 - val_loss: 0.8908 - val_accuracy: 0.7750\n",
            "Epoch 21/100\n",
            "391/391 [==============================] - 51s 131ms/step - loss: 0.6727 - accuracy: 0.8354 - val_loss: 1.2116 - val_accuracy: 0.6999\n",
            "Epoch 22/100\n",
            "391/391 [==============================] - 51s 131ms/step - loss: 0.6669 - accuracy: 0.8394 - val_loss: 0.9965 - val_accuracy: 0.7419\n",
            "Epoch 23/100\n",
            "391/391 [==============================] - 52s 132ms/step - loss: 0.6897 - accuracy: 0.8387 - val_loss: 0.9526 - val_accuracy: 0.7545\n",
            "Epoch 24/100\n",
            "391/391 [==============================] - 52s 132ms/step - loss: 0.6673 - accuracy: 0.8449 - val_loss: 1.0259 - val_accuracy: 0.7485\n",
            "Epoch 25/100\n",
            "391/391 [==============================] - 52s 132ms/step - loss: 0.6459 - accuracy: 0.8518 - val_loss: 1.1095 - val_accuracy: 0.7286\n",
            "Epoch 26/100\n",
            "391/391 [==============================] - 52s 132ms/step - loss: 0.6417 - accuracy: 0.8536 - val_loss: 1.7531 - val_accuracy: 0.5618\n",
            "Epoch 27/100\n",
            "391/391 [==============================] - 51s 131ms/step - loss: 0.6504 - accuracy: 0.8543 - val_loss: 0.9465 - val_accuracy: 0.7713\n",
            "Epoch 28/100\n",
            "391/391 [==============================] - 52s 132ms/step - loss: 0.6075 - accuracy: 0.8661 - val_loss: 0.9533 - val_accuracy: 0.7678\n",
            "Epoch 29/100\n",
            "391/391 [==============================] - 52s 132ms/step - loss: 0.6181 - accuracy: 0.8619 - val_loss: 0.9842 - val_accuracy: 0.7675\n",
            "Epoch 30/100\n",
            "391/391 [==============================] - 52s 134ms/step - loss: 0.6178 - accuracy: 0.8653 - val_loss: 0.9655 - val_accuracy: 0.7736\n",
            "Epoch 31/100\n",
            "391/391 [==============================] - 52s 133ms/step - loss: 0.6085 - accuracy: 0.8676 - val_loss: 1.1581 - val_accuracy: 0.7286\n",
            "Epoch 32/100\n",
            "391/391 [==============================] - 53s 134ms/step - loss: 0.6033 - accuracy: 0.8703 - val_loss: 1.4056 - val_accuracy: 0.6393\n",
            "Epoch 33/100\n",
            "391/391 [==============================] - 52s 132ms/step - loss: 0.6114 - accuracy: 0.8675 - val_loss: 1.0429 - val_accuracy: 0.7717\n",
            "Epoch 34/100\n",
            "391/391 [==============================] - 51s 132ms/step - loss: 0.5812 - accuracy: 0.8780 - val_loss: 0.9191 - val_accuracy: 0.7888\n",
            "Epoch 35/100\n",
            "391/391 [==============================] - 51s 131ms/step - loss: 0.6180 - accuracy: 0.8698 - val_loss: 1.0951 - val_accuracy: 0.7494\n",
            "Epoch 36/100\n",
            "391/391 [==============================] - 51s 132ms/step - loss: 0.5859 - accuracy: 0.8785 - val_loss: 1.0093 - val_accuracy: 0.7729\n",
            "Epoch 37/100\n",
            "391/391 [==============================] - 51s 131ms/step - loss: 0.5949 - accuracy: 0.8773 - val_loss: 1.1929 - val_accuracy: 0.7331\n",
            "Epoch 38/100\n",
            "391/391 [==============================] - 51s 131ms/step - loss: 0.6025 - accuracy: 0.8732 - val_loss: 0.9276 - val_accuracy: 0.7937\n",
            "Epoch 39/100\n",
            "391/391 [==============================] - 52s 132ms/step - loss: 0.5754 - accuracy: 0.8807 - val_loss: 0.9138 - val_accuracy: 0.7901\n",
            "Epoch 40/100\n",
            "391/391 [==============================] - 51s 131ms/step - loss: 0.5900 - accuracy: 0.8766 - val_loss: 1.1173 - val_accuracy: 0.7471\n",
            "Epoch 41/100\n",
            "391/391 [==============================] - 51s 131ms/step - loss: 0.5892 - accuracy: 0.8780 - val_loss: 1.0548 - val_accuracy: 0.7564\n",
            "Epoch 42/100\n",
            "391/391 [==============================] - 52s 132ms/step - loss: 0.5881 - accuracy: 0.8815 - val_loss: 1.0272 - val_accuracy: 0.7391\n",
            "Epoch 43/100\n",
            "391/391 [==============================] - 52s 132ms/step - loss: 0.5670 - accuracy: 0.8829 - val_loss: 1.1013 - val_accuracy: 0.7419\n",
            "Epoch 44/100\n",
            "391/391 [==============================] - 51s 131ms/step - loss: 0.6010 - accuracy: 0.8778 - val_loss: 0.9176 - val_accuracy: 0.7858\n",
            "Epoch 45/100\n",
            "391/391 [==============================] - 51s 130ms/step - loss: 0.6165 - accuracy: 0.8718 - val_loss: 1.1987 - val_accuracy: 0.7278\n",
            "Epoch 46/100\n",
            "391/391 [==============================] - 51s 132ms/step - loss: 0.5988 - accuracy: 0.8743 - val_loss: 0.9925 - val_accuracy: 0.7562\n",
            "Epoch 47/100\n",
            "391/391 [==============================] - 51s 131ms/step - loss: 0.5835 - accuracy: 0.8793 - val_loss: 0.9081 - val_accuracy: 0.7927\n",
            "Epoch 48/100\n",
            "391/391 [==============================] - 51s 130ms/step - loss: 0.5752 - accuracy: 0.8815 - val_loss: 1.0676 - val_accuracy: 0.7518\n",
            "Epoch 49/100\n",
            "391/391 [==============================] - 51s 131ms/step - loss: 0.5866 - accuracy: 0.8785 - val_loss: 1.0084 - val_accuracy: 0.7762\n",
            "Epoch 50/100\n",
            "391/391 [==============================] - 51s 131ms/step - loss: 0.5942 - accuracy: 0.8768 - val_loss: 1.3982 - val_accuracy: 0.6951\n",
            "Epoch 51/100\n",
            "391/391 [==============================] - 51s 132ms/step - loss: 0.5897 - accuracy: 0.8774 - val_loss: 1.1926 - val_accuracy: 0.7262\n",
            "Epoch 52/100\n",
            "391/391 [==============================] - 51s 131ms/step - loss: 0.5679 - accuracy: 0.8832 - val_loss: 1.1441 - val_accuracy: 0.7517\n",
            "Epoch 53/100\n",
            "391/391 [==============================] - 51s 131ms/step - loss: 0.5890 - accuracy: 0.8794 - val_loss: 3.7486 - val_accuracy: 0.4018\n",
            "Epoch 54/100\n",
            "391/391 [==============================] - 51s 132ms/step - loss: 0.5626 - accuracy: 0.8850 - val_loss: 0.9508 - val_accuracy: 0.7854\n",
            "Epoch 55/100\n",
            "391/391 [==============================] - 51s 131ms/step - loss: 0.5500 - accuracy: 0.8892 - val_loss: 1.1966 - val_accuracy: 0.7075\n",
            "Epoch 56/100\n",
            "391/391 [==============================] - 51s 132ms/step - loss: 0.5329 - accuracy: 0.8940 - val_loss: 0.9539 - val_accuracy: 0.7869\n",
            "Epoch 57/100\n",
            "391/391 [==============================] - 52s 132ms/step - loss: 0.5525 - accuracy: 0.8908 - val_loss: 0.9469 - val_accuracy: 0.7868\n",
            "Epoch 58/100\n",
            "391/391 [==============================] - 51s 131ms/step - loss: 0.5641 - accuracy: 0.8888 - val_loss: 1.2118 - val_accuracy: 0.7375\n",
            "Epoch 59/100\n",
            "391/391 [==============================] - 51s 130ms/step - loss: 0.5337 - accuracy: 0.8949 - val_loss: 1.0625 - val_accuracy: 0.7623\n",
            "Epoch 60/100\n",
            "391/391 [==============================] - 52s 132ms/step - loss: 0.5561 - accuracy: 0.8875 - val_loss: 0.9321 - val_accuracy: 0.7833\n",
            "Epoch 61/100\n",
            "391/391 [==============================] - 52s 132ms/step - loss: 0.5649 - accuracy: 0.8875 - val_loss: 1.0845 - val_accuracy: 0.7595\n",
            "Epoch 62/100\n",
            "391/391 [==============================] - 51s 130ms/step - loss: 0.5562 - accuracy: 0.8890 - val_loss: 0.8902 - val_accuracy: 0.8040\n",
            "Epoch 63/100\n",
            "391/391 [==============================] - 51s 131ms/step - loss: 0.5439 - accuracy: 0.8923 - val_loss: 1.5188 - val_accuracy: 0.6805\n",
            "Epoch 64/100\n",
            "391/391 [==============================] - 51s 131ms/step - loss: 0.5703 - accuracy: 0.8868 - val_loss: 1.0797 - val_accuracy: 0.7501\n",
            "Epoch 65/100\n",
            "391/391 [==============================] - 51s 131ms/step - loss: 0.5499 - accuracy: 0.8908 - val_loss: 0.9502 - val_accuracy: 0.7992\n",
            "Epoch 66/100\n",
            "391/391 [==============================] - 51s 131ms/step - loss: 0.5504 - accuracy: 0.8920 - val_loss: 1.1244 - val_accuracy: 0.7546\n",
            "Epoch 67/100\n",
            "391/391 [==============================] - 51s 131ms/step - loss: 0.5546 - accuracy: 0.8902 - val_loss: 0.9343 - val_accuracy: 0.7806\n",
            "Epoch 68/100\n",
            "391/391 [==============================] - 51s 131ms/step - loss: 0.5472 - accuracy: 0.8900 - val_loss: 0.8903 - val_accuracy: 0.8049\n",
            "Epoch 69/100\n",
            "391/391 [==============================] - 51s 131ms/step - loss: 0.5648 - accuracy: 0.8874 - val_loss: 1.1949 - val_accuracy: 0.7405\n",
            "Epoch 70/100\n",
            "391/391 [==============================] - 51s 131ms/step - loss: 0.5411 - accuracy: 0.8938 - val_loss: 0.9563 - val_accuracy: 0.7850\n",
            "Epoch 71/100\n",
            "391/391 [==============================] - 51s 131ms/step - loss: 0.5364 - accuracy: 0.8953 - val_loss: 1.1186 - val_accuracy: 0.7593\n",
            "Epoch 72/100\n",
            "391/391 [==============================] - 51s 131ms/step - loss: 0.5400 - accuracy: 0.8948 - val_loss: 0.9441 - val_accuracy: 0.7743\n",
            "Epoch 73/100\n",
            "391/391 [==============================] - 51s 131ms/step - loss: 0.5203 - accuracy: 0.8975 - val_loss: 0.8690 - val_accuracy: 0.8008\n",
            "Epoch 74/100\n",
            "391/391 [==============================] - 51s 132ms/step - loss: 0.5220 - accuracy: 0.8986 - val_loss: 0.9595 - val_accuracy: 0.7910\n",
            "Epoch 75/100\n",
            "391/391 [==============================] - 51s 131ms/step - loss: 0.5319 - accuracy: 0.8990 - val_loss: 1.2195 - val_accuracy: 0.7338\n",
            "Epoch 76/100\n",
            "391/391 [==============================] - 51s 131ms/step - loss: 0.5552 - accuracy: 0.8919 - val_loss: 0.8940 - val_accuracy: 0.7991\n",
            "Epoch 77/100\n",
            "391/391 [==============================] - 51s 132ms/step - loss: 0.5155 - accuracy: 0.9024 - val_loss: 1.2092 - val_accuracy: 0.7278\n",
            "Epoch 78/100\n",
            "391/391 [==============================] - 51s 131ms/step - loss: 0.5040 - accuracy: 0.9047 - val_loss: 1.3129 - val_accuracy: 0.6952\n",
            "Epoch 79/100\n",
            "391/391 [==============================] - 51s 131ms/step - loss: 0.5302 - accuracy: 0.8969 - val_loss: 0.9504 - val_accuracy: 0.7876\n",
            "Epoch 80/100\n",
            "391/391 [==============================] - 52s 132ms/step - loss: 0.5251 - accuracy: 0.8989 - val_loss: 1.0693 - val_accuracy: 0.7740\n",
            "Epoch 81/100\n",
            "391/391 [==============================] - 52s 132ms/step - loss: 0.5286 - accuracy: 0.8993 - val_loss: 1.0184 - val_accuracy: 0.7614\n",
            "Epoch 82/100\n",
            "391/391 [==============================] - 51s 132ms/step - loss: 0.5168 - accuracy: 0.9024 - val_loss: 0.8681 - val_accuracy: 0.8093\n",
            "Epoch 83/100\n",
            "391/391 [==============================] - 52s 133ms/step - loss: 0.5560 - accuracy: 0.8920 - val_loss: 1.0453 - val_accuracy: 0.7563\n",
            "Epoch 84/100\n",
            "391/391 [==============================] - 51s 132ms/step - loss: 0.5287 - accuracy: 0.8994 - val_loss: 1.0390 - val_accuracy: 0.7716\n",
            "Epoch 85/100\n",
            "391/391 [==============================] - 51s 131ms/step - loss: 0.5112 - accuracy: 0.9029 - val_loss: 1.0341 - val_accuracy: 0.7662\n",
            "Epoch 86/100\n",
            "391/391 [==============================] - 51s 132ms/step - loss: 0.5592 - accuracy: 0.8905 - val_loss: 0.9959 - val_accuracy: 0.7776\n",
            "Epoch 87/100\n",
            "391/391 [==============================] - 51s 131ms/step - loss: 0.5295 - accuracy: 0.8975 - val_loss: 1.0766 - val_accuracy: 0.7510\n",
            "Epoch 88/100\n",
            "391/391 [==============================] - 52s 132ms/step - loss: 0.5303 - accuracy: 0.8966 - val_loss: 0.9988 - val_accuracy: 0.7723\n",
            "Epoch 89/100\n",
            "391/391 [==============================] - 51s 132ms/step - loss: 0.5347 - accuracy: 0.8967 - val_loss: 0.9759 - val_accuracy: 0.7891\n",
            "Epoch 90/100\n",
            "391/391 [==============================] - 52s 132ms/step - loss: 0.5298 - accuracy: 0.8975 - val_loss: 1.0201 - val_accuracy: 0.7821\n",
            "Epoch 91/100\n",
            "391/391 [==============================] - 52s 132ms/step - loss: 0.5204 - accuracy: 0.9017 - val_loss: 0.9137 - val_accuracy: 0.7914\n",
            "Epoch 92/100\n",
            "391/391 [==============================] - 52s 132ms/step - loss: 0.5324 - accuracy: 0.8966 - val_loss: 1.1740 - val_accuracy: 0.7392\n",
            "Epoch 93/100\n",
            "391/391 [==============================] - 52s 132ms/step - loss: 0.5090 - accuracy: 0.9042 - val_loss: 1.0450 - val_accuracy: 0.7728\n",
            "Epoch 94/100\n",
            "391/391 [==============================] - 52s 132ms/step - loss: 0.4940 - accuracy: 0.9085 - val_loss: 0.9514 - val_accuracy: 0.8013\n",
            "Epoch 95/100\n",
            "391/391 [==============================] - 52s 132ms/step - loss: 0.5108 - accuracy: 0.9038 - val_loss: 0.9582 - val_accuracy: 0.7875\n",
            "Epoch 96/100\n",
            "391/391 [==============================] - 52s 132ms/step - loss: 0.4855 - accuracy: 0.9097 - val_loss: 1.1263 - val_accuracy: 0.7456\n",
            "Epoch 97/100\n",
            "391/391 [==============================] - 52s 132ms/step - loss: 0.5270 - accuracy: 0.9009 - val_loss: 1.7716 - val_accuracy: 0.6825\n",
            "Epoch 98/100\n",
            "391/391 [==============================] - 52s 132ms/step - loss: 0.5103 - accuracy: 0.9045 - val_loss: 0.8417 - val_accuracy: 0.8159\n",
            "Epoch 99/100\n",
            "391/391 [==============================] - 51s 131ms/step - loss: 0.4999 - accuracy: 0.9079 - val_loss: 0.9579 - val_accuracy: 0.7925\n",
            "Epoch 100/100\n",
            "391/391 [==============================] - 52s 132ms/step - loss: 0.5040 - accuracy: 0.9066 - val_loss: 0.8947 - val_accuracy: 0.8000\n"
          ]
        },
        {
          "output_type": "execute_result",
          "data": {
            "text/plain": [
              "<keras.callbacks.History at 0x7f65f8645310>"
            ]
          },
          "metadata": {},
          "execution_count": 73
        }
      ]
    },
    {
      "cell_type": "code",
      "source": [],
      "metadata": {
        "id": "ewahSW1YscWS"
      },
      "execution_count": null,
      "outputs": []
    },
    {
      "cell_type": "code",
      "metadata": {
        "id": "Cep1-6AqczV6",
        "colab": {
          "base_uri": "https://localhost:8080/"
        },
        "outputId": "2b21bc2f-274a-4195-b94d-b3fb9687ce9f"
      },
      "source": [
        "print(tf.config.list_physical_devices('GPU'))"
      ],
      "execution_count": null,
      "outputs": [
        {
          "output_type": "stream",
          "name": "stdout",
          "text": [
            "[PhysicalDevice(name='/physical_device:GPU:0', device_type='GPU')]\n"
          ]
        }
      ]
    }
  ]
}